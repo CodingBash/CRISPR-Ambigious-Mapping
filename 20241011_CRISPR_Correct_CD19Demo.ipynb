{
 "cells": [
  {
   "cell_type": "markdown",
   "id": "7b6b371b",
   "metadata": {},
   "source": [
    "# Run CRISPR-Correct on CD19 data\n",
    "\n",
    "This will use CRISPR-Correct version 0.0.41, which may have an different interface than the latest version.\n",
    "\n",
    "### Download CD19 Example Data\n",
    "\n",
    "As an example, download the ABE8e and EvoDDA data from GEO that was used in the CRISPR-CLEAR manuscript: [GSE278581](https://www.ncbi.nlm.nih.gov/geo/query/acc.cgi?acc=GSE278581)\n",
    "- GSM8549767\tABE8e, replicate 1, presort, pooled, gRNA\n",
    "- GSM8549768\tABE8e, replicate 1, CD19 positive, pooled, gRNA\n",
    "- GSM8549769\tABE8e, replicate 1, CD19 negative, pooled, gRNA\n",
    "- GSM8549770\tABE8e, replicate 2, presort, pooled, gRNA\n",
    "- GSM8549771\tABE8e, replicate 2, CD19 positive, pooled, gRNA\n",
    "- GSM8549772\tABE8e, replicate 2, CD19 negative, pooled, gRNA\n",
    "- GSM8549773\tABE8e, replicate 3, presort, pooled, gRNA\n",
    "- GSM8549774\tABE8e, replicate 3, CD19 positive, pooled, gRNA\n",
    "- GSM8549775\tABE8e, replicate 3, CD19 negative, pooled, gRNA\n",
    "- GSM8549776\tABE8e, plasmid, pooled, gRNA\n",
    "- GSM8549777\tevoCDA, replicate 1, presort, pooled, gRNA\n",
    "- GSM8549778\tevoCDA, replicate 1, CD19 positive, pooled, gRNA\n",
    "- GSM8549779\tevoCDA, replicate 1, CD19 negative, pooled, gRNA\n",
    "- GSM8549780\tevoCDA, replicate 2, presort, pooled, gRNA\n",
    "- GSM8549781\tevoCDA, replicate 2, CD19 positive, pooled, gRNA\n",
    "- GSM8549782\tevoCDA, replicate 2, CD19 negative, pooled, gRNA\n",
    "- GSM8549783\tevoCDA, replicate 3, presort, pooled, gRNA\n",
    "- GSM8549784\tevoCDA, replicate 3, CD19 positive, pooled, gRNA\n",
    "- GSM8549785\tevoCDA, replicate 3, CD19 negative, pooled, gRNA\n",
    "- GSM8549786\tevoCDA, plasmid, pooled, gRNA\n",
    "\n",
    "Alternatively and perhaps easier, you can download the files from [Zenodo](https://zenodo.org/records/13737880):\n",
    "- CRISPR-CLEAR-data/data/raw_FASTQs/guide_sequencing/ABE8e_fastqs.zip\n",
    "- CRISPR-CLEAR-data/data/raw_FASTQs/guide_sequencing/EvoCDA_fastqs.zip\n",
    "\n",
    "Download the files and unzip.\n"
   ]
  },
  {
   "cell_type": "markdown",
   "id": "02f2ae33",
   "metadata": {},
   "source": [
    "### Install CRISPR_ambiguous_mapping"
   ]
  },
  {
   "cell_type": "code",
   "execution_count": null,
   "id": "641b3bfd",
   "metadata": {
    "scrolled": true
   },
   "outputs": [],
   "source": [
    "reinstall = True\n",
    "\n",
    "if reinstall:    \n",
    "    version = \"0.0.41\"\n",
    "    !pip uninstall -y crispr-ambiguous-mapping\n",
    "    !pip install --no-cache-dir crispr-ambiguous-mapping==$version"
   ]
  },
  {
   "cell_type": "markdown",
   "id": "da996aa5",
   "metadata": {},
   "source": [
    "### Import Packages"
   ]
  },
  {
   "cell_type": "code",
   "execution_count": 3,
   "id": "bd1d8538",
   "metadata": {},
   "outputs": [],
   "source": [
    "%load_ext autoreload\n",
    "%autoreload 2\n",
    "\n",
    "import crispr_ambiguous_mapping"
   ]
  },
  {
   "cell_type": "code",
   "execution_count": 4,
   "id": "9e82080d",
   "metadata": {},
   "outputs": [],
   "source": [
    "import pandas as pd\n",
    "import matplotlib.pyplot as plt\n",
    "import numpy as np"
   ]
  },
  {
   "cell_type": "markdown",
   "id": "fb5424fb",
   "metadata": {},
   "source": [
    "### Set inputs"
   ]
  },
  {
   "cell_type": "markdown",
   "id": "40685aa0",
   "metadata": {},
   "source": []
  },
  {
   "cell_type": "code",
   "execution_count": 5,
   "id": "3dd59dc6",
   "metadata": {},
   "outputs": [],
   "source": [
    "#  Guide DF Filenames\n",
    "CD19_guide_library_fn = \"CD19_sgRNA_count_libraries_DS.txt\"\n",
    "\n",
    "# Load CD19 Library\n",
    "CD19_guide_library_raw_df = pd.read_table(CD19_guide_library_fn, encoding='utf-8')\n",
    "CD19_guide_library_raw_df.columns = [colname.strip() for colname in CD19_guide_library_raw_df.columns]"
   ]
  },
  {
   "cell_type": "code",
   "execution_count": 6,
   "id": "e1c490a1",
   "metadata": {},
   "outputs": [],
   "source": [
    "# Prepare dataframe for CRISPR-SURF input\n",
    "\n",
    "CD19_guide_library_SURFinput_df = pd.DataFrame({\"Chr\": CD19_guide_library_raw_df[\"chromosome_#\"],\n",
    "            \"Start\": CD19_guide_library_raw_df[\"start\"],\n",
    "            \"Stop\": CD19_guide_library_raw_df[\"end\"],\n",
    "            \"sgRNA_Sequence\": CD19_guide_library_raw_df[\"sgRNA\"],\n",
    "            \"Strand\": CD19_guide_library_raw_df[\"strand\"],\n",
    "            \"sgRNA_Type_ABE\": np.where(CD19_guide_library_raw_df[\"start\"].isna(), \"negative_control\", \"observation\"),\n",
    "            \"sgRNA_Type_CBE\": np.where(CD19_guide_library_raw_df[\"start\"].isna(), \"negative_control\", \"observation\")})\n",
    "\n",
    "CD19_guide_library_SURFinput_df[\"Chr\"] = CD19_guide_library_SURFinput_df[\"Chr\"].str.replace(\",\",\"_\")\n",
    "CD19_guide_library_SURFinput_df.to_csv(\"CD19_guide_library_SURFinput.csv\", index=False)"
   ]
  },
  {
   "cell_type": "code",
   "execution_count": 7,
   "id": "93840573",
   "metadata": {},
   "outputs": [],
   "source": [
    "# Set predicted cutsite for each guide\n",
    "\n",
    "CD19_guide_library_SURFinput_df_cutsite = CD19_guide_library_SURFinput_df.copy()\n",
    "CD19_guide_library_SURFinput_df_cutsite[\"Cutsite\"] = np.where(CD19_guide_library_SURFinput_df_cutsite[\"Strand\"] == \"+\", CD19_guide_library_SURFinput_df_cutsite[\"Start\"]+6, CD19_guide_library_SURFinput_df_cutsite[\"Start\"]+14)"
   ]
  },
  {
   "cell_type": "markdown",
   "id": "68459576",
   "metadata": {},
   "source": [
    "### Get the demultiplexed fileames"
   ]
  },
  {
   "cell_type": "code",
   "execution_count": 4,
   "id": "5c42c3b3",
   "metadata": {},
   "outputs": [],
   "source": [
    "# REPLACE ABE8e DIRECTORY WITH DOWNLOADED DIRECTORY\n",
    "cd19_abe8e_redo_directory = \"./ABE8e_fastqs\"\n",
    "\n",
    "cd19_abe8e_redo_presort_fns = [\"AAGTAGAG_AAGTAGAG_R1-CD19_presort_1_ABE8.fastq.gz\",\n",
    "                              \"AAGTAGAG_CATGATCG_R1-CD19_presort_2_ABE8.fastq.gz\",\n",
    "                              \"AAGTAGAG_AACGCATT_R1-CD19_presort_3_ABE8.fastq.gz\"]\n",
    "cd19_abe8e_redo_low_fns = [\"AAGTAGAG_ACACGATC_R1-CD19_low_1_ABE8.fastq.gz\",\n",
    "                          \"AAGTAGAG_CGTTACCA_R1-CD19_low_2_ABE8.fastq.gz\",\n",
    "                          \"AAGTAGAG_AGGTAAGG_R1-CD19_low_3_ABE8.fastq.gz\"]\n",
    "cd19_abe8e_redo_plasmid_fns = [\"CGCGCGGT_AGGTAAGG_R1_CD19_plasmid_pool.fastq.gz\",\n",
    "                              \"CGCGCGGT_AGGTAAGG_R1_CD19_plasmid_pool.fastq.gz\",\n",
    "                              \"CGCGCGGT_AGGTAAGG_R1_CD19_plasmid_pool.fastq.gz\"]\n",
    "cd19_abe8e_redo_high_fns = [\"AAGTAGAG_CGCGCGGT_R1-CD19_high_1_ABE8.fastq.gz\",\n",
    "                           \"AAGTAGAG_TCCTTGGT_R1-CD19_high_2_ABE8.fastq.gz\",\n",
    "                           \"AAGTAGAG_AACAATGG_R1-CD19_high_3_ABE8.fastq.gz\"]\n",
    "\n",
    "\n",
    "# REPLACE EvoCDA DIRECTORY WITH DOWNLOADED DIRECTORY\n",
    "cd19_evocda_directory = \"./EvoCDA_fastqs\"\n",
    "\n",
    "cd19_evocda_presort_fns = [\"EvoCDA_Presort_0.R1.fastq.gz\",\n",
    "                              \"EvoCDA_Presort_1.R1.fastq.gz\",\n",
    "                              \"EvoCDA_Presort_2.R1.fastq.gz\"]\n",
    "cd19_evocda_low_fns = [\"EvoCDA_Low_0.R1.fastq.gz\",\n",
    "                          \"EvoCDA_Low_1.R1.fastq.gz\",\n",
    "                          \"EvoCDA_Low_2.R1.fastq.gz\"]\n",
    "cd19_evocda_plasmid_fns = [\"EvoCDA_Plasmid_0.R1.fastq.gz\",\n",
    "                              \"EvoCDA_Plasmid_1.R1.fastq.gz\",\n",
    "                              \"EvoCDA_Plasmid_2.R1.fastq.gz\"]\n",
    "cd19_evocda_high_fns = [\"EvoCDA_High_0.R1.fastq.gz\",\n",
    "                           \"EvoCDA_High_1.R1.fastq.gz\",\n",
    "                           \"EvoCDA_High_2.R1.fastq.gz\"]"
   ]
  },
  {
   "cell_type": "code",
   "execution_count": 16,
   "id": "2ddcb72f",
   "metadata": {},
   "outputs": [],
   "source": [
    "cd19_guide_series = CD19_guide_library_SURFinput_df_cutsite[\"sgRNA_Sequence\"]\n",
    "cd19_guide_series.index = cd19_guide_series.values"
   ]
  },
  {
   "cell_type": "markdown",
   "id": "e87cd635",
   "metadata": {},
   "source": [
    "### Perform count for the ABE8e (self-editing aware)"
   ]
  },
  {
   "cell_type": "code",
   "execution_count": 17,
   "id": "b1bde811",
   "metadata": {},
   "outputs": [],
   "source": [
    "# FUNCTION TO PERFORM COUNT\n",
    "def perform_count(input_fn,output_fn, guide_series, counts_output_dir=\"./\", hamming_distance=11):\n",
    "    print(\"Reading input: \" + input_fn)\n",
    "    count_result = crispr_ambiguous_mapping.get_guide_counts_from_fastq(guide_series, input_fn, hamming_threshold_strict=hamming_distance, parse_left_flank=False, parse_flank_sequence=\"GTTTTA\", cores=20)\n",
    "    crispr_ambiguous_mapping.save_or_load_pickle(f\"{counts_output_dir}\", output_fn, py_object=count_result, date_string=\"20230426\")"
   ]
  },
  {
   "cell_type": "code",
   "execution_count": 22,
   "id": "363173a7",
   "metadata": {},
   "outputs": [
    {
     "name": "stdout",
     "output_type": "stream",
     "text": [
      "CPU times: user 1 µs, sys: 5 µs, total: 6 µs\n",
      "Wall time: 11.4 µs\n"
     ]
    }
   ],
   "source": [
    "%%time\n",
    "\n",
    "rerun = True\n",
    "\n",
    "# PERFORM COUNT FOR ALL SAMPLES\n",
    "output_dir = \"./\"\n",
    "if rerun:\n",
    "    [perform_count(input_fn=f\"{cd19_abe8e_redo_directory}/{fn}\",output_fn=f\"cd19_abe8e_presort_count_{index}\", counts_output_dir=output_dir,guide_series=cd19_guide_series) for index, fn in enumerate(cd19_abe8e_redo_presort_fns)]\n",
    "    [perform_count(input_fn=f\"{cd19_abe8e_redo_directory}/{fn}\",output_fn=f\"cd19_abe8e_low_count_{index}\", counts_output_dir=output_dir, guide_series=cd19_guide_series) for index, fn in enumerate(cd19_abe8e_redo_low_fns)]\n",
    "    [perform_count(input_fn=f\"{cd19_abe8e_redo_directory}/{fn}\",output_fn=f\"cd19_abe8e_plasmid_count_{index}\", counts_output_dir=output_dir, guide_series=cd19_guide_series) for index, fn in enumerate(cd19_abe8e_redo_plasmid_fns)]\n",
    "    [perform_count(input_fn=f\"{cd19_abe8e_redo_directory}/{fn}\",output_fn=f\"cd19_abe8e_high_count_{index}\", counts_output_dir=output_dir, guide_series=cd19_guide_series) for index, fn in enumerate(cd19_abe8e_redo_high_fns)]\n",
    "    \n",
    "    [perform_count(input_fn=f\"{cd19_evocda_directory}/{fn}\",output_fn=f\"cd19_evocda_presort_count_{index}\", counts_output_dir=output_dir, guide_series=cd19_guide_series) for index, fn in enumerate(cd19_evocda_presort_fns)]\n",
    "    [perform_count(input_fn=f\"{cd19_evocda_directory}/{fn}\",output_fn=f\"cd19_evocda_low_count_{index}\", counts_output_dir=output_dir, guide_series=cd19_guide_series) for index, fn in enumerate(cd19_evocda_low_fns)]\n",
    "    [perform_count(input_fn=f\"{cd19_evocda_directory}/{fn}\",output_fn=f\"cd19_evocda_plasmid_count_{index}\", counts_output_dir=output_dir, guide_series=cd19_guide_series) for index, fn in enumerate(cd19_evocda_plasmid_fns)]\n",
    "    [perform_count(input_fn=f\"{cd19_evocda_directory}/{fn}\",output_fn=f\"cd19_evocda_high_count_{index}\", counts_output_dir=output_dir, guide_series=cd19_guide_series) for index, fn in enumerate(cd19_evocda_high_fns)]"
   ]
  },
  {
   "cell_type": "code",
   "execution_count": 6,
   "id": "af1d8447",
   "metadata": {},
   "outputs": [],
   "source": [
    "# FUNCTION TO READ IN THE COUNT RESULT\n",
    "def read_count(output_fn, counts_output_dir=\"./\"):\n",
    "    count_result = crispr_ambiguous_mapping.save_or_load_pickle(f\"{counts_output_dir}\", output_fn, date_string=\"20230426\")\n",
    "    return count_result"
   ]
  },
  {
   "cell_type": "code",
   "execution_count": null,
   "id": "dad4da89",
   "metadata": {
    "scrolled": true
   },
   "outputs": [],
   "source": [
    "# READ IN THE COUNT RESULT\n",
    "cd19_abe8e_presort_count_result_list = [read_count(output_fn=f\"cd19_abe8e_presort_count_{index}\", counts_output_dir=output_dir) for index, fn in enumerate(cd19_abe8e_redo_presort_fns)]\n",
    "cd19_abe8e_low_count_result_list = [read_count(output_fn=f\"cd19_abe8e_low_count_{index}\", counts_output_dir=output_dir) for index, fn in enumerate(cd19_abe8e_redo_low_fns)]\n",
    "cd19_abe8e_plasmid_count_result_list = [read_count(output_fn=f\"cd19_abe8e_plasmid_count_{index}\", counts_output_dir=output_dir) for index, fn in enumerate(cd19_abe8e_redo_plasmid_fns)]\n",
    "cd19_abe8e_high_count_result_list = [read_count(output_fn=f\"cd19_abe8e_high_count_{index}\", counts_output_dir=output_dir) for index, fn in enumerate(cd19_abe8e_redo_high_fns)]\n",
    "\n",
    "cd19_evocda_presort_count_result_list = [read_count(output_fn=f\"cd19_evocda_presort_count_{index}\", counts_output_dir=output_dir) for index, fn in enumerate(cd19_evocda_presort_fns)]\n",
    "cd19_evocda_low_count_result_list = [read_count(output_fn=f\"cd19_evocda_low_count_{index}\", counts_output_dir=output_dir) for index, fn in enumerate(cd19_evocda_low_fns)]\n",
    "cd19_evocda_plasmid_count_result_list = [read_count(output_fn=f\"cd19_evocda_plasmid_count_{index}\", counts_output_dir=output_dir) for index, fn in enumerate(cd19_evocda_plasmid_fns)]\n",
    "cd19_evocda_high_count_result_list = [read_count(output_fn=f\"cd19_evocda_high_count_{index}\", counts_output_dir=output_dir) for index, fn in enumerate(cd19_evocda_high_fns)]"
   ]
  },
  {
   "cell_type": "code",
   "execution_count": 43,
   "id": "93b5a694",
   "metadata": {
    "scrolled": true
   },
   "outputs": [
    {
     "name": "stdout",
     "output_type": "stream",
     "text": [
      "ABE8e presort: [0.9260519115465721, 0.9294988553983029, 0.9330139311983668]\n",
      "ABE8e low: [0.9410854701165292, 0.8198730576009812, 0.937903920670365]\n",
      "ABE8e plasmid: [0.9634341602988671, 0.9634341602988671, 0.9634341602988671]\n",
      "ABE8e high: [0.9451304230573598, 0.9358039100338151, 0.9331782180155964]\n",
      "evoCDA presort: [0.912013822906674, 0.8659725792176545, 0.9072118619683116]\n",
      "evoCDA low: [0.8633668249045483, 0.7524936663391386, 0.6858312465457714]\n",
      "evoCDA plasmid: [0.9230416249892666, 0.9230416249892666, 0.9230416249892666]\n",
      "evoCDA high: [0.8037354255987659, 0.8247871403838533, 0.80906838726479]\n"
     ]
    }
   ],
   "source": [
    "# Show the mapping percentage\n",
    "print(f\"ABE8e presort: {[count_result[2]['percent_mapped'] for count_result in cd19_abe8e_presort_count_result_list]}\")\n",
    "print(f\"ABE8e low: {[count_result[2]['percent_mapped'] for count_result in cd19_abe8e_low_count_result_list]}\")\n",
    "print(f\"ABE8e plasmid: {[count_result[2]['percent_mapped'] for count_result in cd19_abe8e_plasmid_count_result_list]}\")\n",
    "print(f\"ABE8e high: {[count_result[2]['percent_mapped'] for count_result in cd19_abe8e_high_count_result_list]}\")\n",
    "\n",
    "print(f\"evoCDA presort: {[count_result[2]['percent_mapped'] for count_result in cd19_evocda_presort_count_result_list]}\")\n",
    "print(f\"evoCDA low: {[count_result[2]['percent_mapped'] for count_result in cd19_evocda_low_count_result_list]}\")\n",
    "print(f\"evoCDA plasmid: {[count_result[2]['percent_mapped'] for count_result in cd19_evocda_plasmid_count_result_list]}\")\n",
    "print(f\"evoCDA high: {[count_result[2]['percent_mapped'] for count_result in cd19_evocda_high_count_result_list]}\")"
   ]
  },
  {
   "cell_type": "code",
   "execution_count": 182,
   "id": "132680eb",
   "metadata": {},
   "outputs": [
    {
     "name": "stdout",
     "output_type": "stream",
     "text": [
      "ABE8e presort: [17842282.0, 17295913.0, 13438933.0]\n",
      "ABE8e low: [23566556.0, 13749891.0, 15117383.0]\n",
      "ABE8e plasmid: [11639593.0, 11639593.0, 11639593.0]\n",
      "ABE8e high: [14922703.0, 14895859.0, 18162792.0]\n",
      "evoCDA presort: [8568752.0, 8823573.0, 7245355.0]\n",
      "evoCDA low: [7692601.0, 6967533.0, 4772605.0]\n",
      "evoCDA plasmid: [10437835.0, 10437835.0, 10437835.0]\n",
      "evoCDA high: [7547496.0, 7973454.0, 5766088.0]\n"
     ]
    }
   ],
   "source": [
    "# Show the mapped read counts\n",
    "print(f\"ABE8e presort: {[count_result[2]['total_guide_counts'] * count_result[2]['percent_mapped'] for count_result in cd19_abe8e_presort_count_result_list]}\")\n",
    "print(f\"ABE8e low: {[count_result[2]['total_guide_counts']  * count_result[2]['percent_mapped'] for count_result in cd19_abe8e_low_count_result_list]}\")\n",
    "print(f\"ABE8e plasmid: {[count_result[2]['total_guide_counts']  * count_result[2]['percent_mapped'] for count_result in cd19_abe8e_plasmid_count_result_list]}\")\n",
    "print(f\"ABE8e high: {[count_result[2]['total_guide_counts']  * count_result[2]['percent_mapped'] for count_result in cd19_abe8e_high_count_result_list]}\")\n",
    "\n",
    "print(f\"evoCDA presort: {[count_result[2]['total_guide_counts']  * count_result[2]['percent_mapped'] for count_result in cd19_evocda_presort_count_result_list]}\")\n",
    "print(f\"evoCDA low: {[count_result[2]['total_guide_counts']  * count_result[2]['percent_mapped'] for count_result in cd19_evocda_low_count_result_list]}\")\n",
    "print(f\"evoCDA plasmid: {[count_result[2]['total_guide_counts']  * count_result[2]['percent_mapped'] for count_result in cd19_evocda_plasmid_count_result_list]}\")\n",
    "print(f\"evoCDA high: {[count_result[2]['total_guide_counts']  * count_result[2]['percent_mapped'] for count_result in cd19_evocda_high_count_result_list]}\")"
   ]
  },
  {
   "cell_type": "code",
   "execution_count": 183,
   "id": "f904d066",
   "metadata": {},
   "outputs": [
    {
     "name": "stdout",
     "output_type": "stream",
     "text": [
      "ABE8e presort: [17842282, 17295913, 13438933]\n",
      "ABE8e low: [23566556, 13749891, 15117383]\n",
      "ABE8e plasmid: [11639593, 11639593, 11639593]\n",
      "ABE8e high: [14922703, 14895859, 18162792]\n",
      "evoCDA presort: [8568752, 8823573, 7245355]\n",
      "evoCDA low: [7692601, 6967533, 4772605]\n",
      "evoCDA plasmid: [10437835, 10437835, 10437835]\n",
      "evoCDA high: [7547496, 7973454, 5766088]\n"
     ]
    }
   ],
   "source": [
    "# Show another way to get the total mapped reads by summing over count series\n",
    "print(f\"ABE8e presort: {[sum(count_result[0]) for count_result in cd19_abe8e_presort_count_result_list]}\")\n",
    "print(f\"ABE8e low: {[sum(count_result[0]) for count_result in cd19_abe8e_low_count_result_list]}\")\n",
    "print(f\"ABE8e plasmid: {[sum(count_result[0]) for count_result in cd19_abe8e_plasmid_count_result_list]}\")\n",
    "print(f\"ABE8e high: {[sum(count_result[0]) for count_result in cd19_abe8e_high_count_result_list]}\")\n",
    "\n",
    "print(f\"evoCDA presort: {[sum(count_result[0]) for count_result in cd19_evocda_presort_count_result_list]}\")\n",
    "print(f\"evoCDA low: {[sum(count_result[0]) for count_result in cd19_evocda_low_count_result_list]}\")\n",
    "print(f\"evoCDA plasmid: {[sum(count_result[0]) for count_result in cd19_evocda_plasmid_count_result_list]}\")\n",
    "print(f\"evoCDA high: {[sum(count_result[0]) for count_result in cd19_evocda_high_count_result_list]}\")"
   ]
  },
  {
   "cell_type": "code",
   "execution_count": 186,
   "id": "1aa401a9",
   "metadata": {},
   "outputs": [
    {
     "data": {
      "text/plain": [
       "protospacer         \n",
       "GGGGAATGACATGCTCTAGT     24716\n",
       "GAATGACATGCTCTAGTGAA     11750\n",
       "TGACATGCTCTAGTGAAAGC      7392\n",
       "CATGCTCTAGTGAAAGCCAG     44819\n",
       "GCTCTAGTGAAAGCCAGTCT    100774\n",
       "                         ...  \n",
       "CCACCTTATATTCCCAGGGC     41463\n",
       "TATAAGGTGGTCCCAGCTCG     31665\n",
       "CGGGGACACAGGATCCCTGG     38163\n",
       "TGCTGTCCTGAAGTGGACAT     69199\n",
       "GTGGACATAGGGGCCCGGGT     17320\n",
       "Name: sgRNA_Sequence, Length: 206, dtype: int64"
      ]
     },
     "execution_count": 186,
     "metadata": {},
     "output_type": "execute_result"
    }
   ],
   "source": [
    "# Show example of a count series for ABE8e presort replicate 1\n",
    "cd19_abe8e_presort_count_result_list[0][0]"
   ]
  },
  {
   "cell_type": "markdown",
   "id": "2d6cf482",
   "metadata": {},
   "source": [
    "#### Prepare the count dataframe"
   ]
  },
  {
   "cell_type": "code",
   "execution_count": 50,
   "id": "c1f08daa",
   "metadata": {},
   "outputs": [],
   "source": [
    "# Load the counts\n",
    "cd19_abe8e_presort_count_df = pd.concat([count_result[0] for count_result in cd19_abe8e_presort_count_result_list], axis=1)\n",
    "cd19_abe8e_low_count_df = pd.concat([count_result[0] for count_result in cd19_abe8e_low_count_result_list], axis=1)\n",
    "cd19_abe8e_high_count_df = pd.concat([count_result[0] for count_result in cd19_abe8e_high_count_result_list], axis=1)\n",
    "\n",
    "cd19_evocda_presort_count_df = pd.concat([count_result[0] for count_result in cd19_evocda_presort_count_result_list], axis=1)\n",
    "cd19_evocda_low_count_df = pd.concat([count_result[0] for count_result in cd19_evocda_low_count_result_list], axis=1)\n",
    "cd19_evocda_high_count_df = pd.concat([count_result[0] for count_result in cd19_evocda_high_count_result_list], axis=1)\n",
    "cd19_plasmid_series = cd19_abe8e_plasmid_count_result_list[0][0]\n",
    "\n",
    "count_df = pd.concat([cd19_abe8e_presort_count_df, cd19_abe8e_low_count_df, cd19_abe8e_high_count_df, cd19_evocda_presort_count_df, cd19_evocda_low_count_df, cd19_evocda_high_count_df, cd19_plasmid_series], axis=1)"
   ]
  }
 ],
 "metadata": {
  "kernelspec": {
   "display_name": "Python [conda env:.conda-demultiplex_py38]",
   "language": "python",
   "name": "conda-env-.conda-demultiplex_py38-py"
  },
  "language_info": {
   "codemirror_mode": {
    "name": "ipython",
    "version": 3
   },
   "file_extension": ".py",
   "mimetype": "text/x-python",
   "name": "python",
   "nbconvert_exporter": "python",
   "pygments_lexer": "ipython3",
   "version": "3.8.12"
  }
 },
 "nbformat": 4,
 "nbformat_minor": 5
}
